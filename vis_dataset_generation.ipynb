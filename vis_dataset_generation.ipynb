{
 "cells": [
  {
   "cell_type": "code",
   "execution_count": 1,
   "metadata": {},
   "outputs": [],
   "source": [
    "import torchvision\n",
    "import torch\n",
    "from torchvision import datasets, transforms\n",
    "import matplotlib.pyplot as plt\n",
    "import numpy as np\n",
    "import PIL\n",
    "from PIL import Image\n",
    "import pickle"
   ]
  },
  {
   "cell_type": "code",
   "execution_count": 3,
   "metadata": {},
   "outputs": [],
   "source": [
    "mnist_trainset = datasets.MNIST(root='../data', train=True, download=True, transform=None)"
   ]
  },
  {
   "cell_type": "code",
   "execution_count": 4,
   "metadata": {},
   "outputs": [],
   "source": [
    "mnist_testset = datasets.MNIST(root='../data', train=False, download=True, transform=None)"
   ]
  },
  {
   "cell_type": "code",
   "execution_count": 5,
   "metadata": {},
   "outputs": [],
   "source": [
    "def digits2data(dataset, inds):\n",
    "    pics = []; digits = []\n",
    "    for ii in range(4):\n",
    "        pics.append(np.asarray(dataset[inds[ii] ][0]))\n",
    "        digits.append(dataset[inds[ii] ][1])\n",
    "    \n",
    "    ab = np.hstack((pics[0],pics[1]))\n",
    "    cd = np.hstack((pics[2],pics[3]))\n",
    "    abcd = np.vstack((ab,cd))\n",
    "    abcd = np.expand_dims(abcd, axis = 0)\n",
    "    \n",
    "    pointer = max(0,digits[0]-1)//3 + 1\n",
    "\n",
    "    return abcd, digits[pointer], np.expand_dims(pics[pointer], axis = 0)"
   ]
  },
  {
   "cell_type": "code",
   "execution_count": 6,
   "metadata": {},
   "outputs": [],
   "source": [
    "def iid_dataset(num_sample, dataset, AE = False):\n",
    "    data_x = []; data_y = []; data_z = []\n",
    "    for ii in range(num_sample):\n",
    "        inds = np.random.randint(len(dataset), size = 4)\n",
    "        x,y,z = digits2data(dataset, inds)\n",
    "        data_x.append(x); data_y.append(y); data_z.append(z)\n",
    "    if(AE):\n",
    "        return data_x, data_z\n",
    "    else:\n",
    "        return data_x, data_y"
   ]
  },
  {
   "cell_type": "code",
   "execution_count": 7,
   "metadata": {},
   "outputs": [],
   "source": [
    "import random\n",
    "def sample_id(dataset, criterion):\n",
    "    max_num = len(dataset)\n",
    "    ids = [random.randint(0,max_num-1)]\n",
    "    for ii in range(3):\n",
    "        idx = random.randint(0,max_num-1)\n",
    "        while(not(dataset[idx][1] in criterion[ii])):\n",
    "            idx = random.randint(0,max_num-1)\n",
    "        ids.append(idx)\n",
    "    return ids"
   ]
  },
  {
   "cell_type": "code",
   "execution_count": 8,
   "metadata": {},
   "outputs": [],
   "source": [
    "def shift_dataset(num_sample, dataset, is_train, AE = False):\n",
    "    data_x = []; data_y = []; data_z = []\n",
    "    if(is_train):\n",
    "        c = [[4,5,6,7,8,9,0], [1,2,3,7,8,9,0], [1,2,3,4,5,6]  ]\n",
    "    else:\n",
    "        c = [[1,2,3], [4,5,6], [7,8,9,0] ]\n",
    "    for ii in range(num_sample):\n",
    "        inds = sample_id(dataset, c)\n",
    "        x,y,z = digits2data(dataset, inds)\n",
    "        data_x.append(x); data_y.append(y), data_z.append(z)\n",
    "    if(AE):\n",
    "        return data_x, data_z\n",
    "    else:\n",
    "        return data_x, data_y"
   ]
  },
  {
   "cell_type": "markdown",
   "metadata": {},
   "source": [
    "## Generate for Visual PVR"
   ]
  },
  {
   "cell_type": "code",
   "execution_count": 12,
   "metadata": {},
   "outputs": [],
   "source": [
    "train_x, train_y = shift_dataset(10000, mnist_trainset, is_train = True)\n",
    "test_x, test_y = shift_dataset(1000, mnist_testset, is_train = False)"
   ]
  },
  {
   "cell_type": "code",
   "execution_count": 15,
   "metadata": {},
   "outputs": [
    {
     "data": {
      "image/png": "[encoded data removed]",
      "text/plain": [
       "<Figure size 432x288 with 1 Axes>"
      ]
     },
     "metadata": {
      "needs_background": "light"
     },
     "output_type": "display_data"
    },
    {
     "name": "stdout",
     "output_type": "stream",
     "text": [
      "1\n"
     ]
    }
   ],
   "source": [
    "import random \n",
    "idx = random.randint(0,1000)\n",
    "image = PIL.Image.fromarray(np.squeeze(train_x[idx]) )\n",
    "plt.imshow(image)\n",
    "plt.show()\n",
    "print(train_y[idx])"
   ]
  },
  {
   "cell_type": "code",
   "execution_count": 16,
   "metadata": {},
   "outputs": [],
   "source": [
    "## save for dataset\n",
    "with open(\"noniid_train.txt\", \"wb\") as fp:   \n",
    "    pickle.dump((train_x, train_y), fp)\n",
    "with open(\"noniid_test.txt\", \"wb\") as fp:  \n",
    "    pickle.dump((test_x, test_y), fp)"
   ]
  },
  {
   "cell_type": "markdown",
   "metadata": {},
   "source": [
    "## Generate for Visual PVR Auto-encoder"
   ]
  },
  {
   "cell_type": "code",
   "execution_count": 17,
   "metadata": {},
   "outputs": [],
   "source": [
    "train_x, train_z = shift_dataset(10000, mnist_trainset, is_train = True, AE = True)\n",
    "test_x, test_z = shift_dataset(1000, mnist_testset, is_train = False, AE = True)"
   ]
  },
  {
   "cell_type": "code",
   "execution_count": 18,
   "metadata": {},
   "outputs": [
    {
     "data": {
      "image/png": "[encoded data removed]",
      "text/plain": [
       "<Figure size 432x288 with 1 Axes>"
      ]
     },
     "metadata": {
      "needs_background": "light"
     },
     "output_type": "display_data"
    },
    {
     "data": {
      "image/png": "[encoded data removed]",
      "text/plain": [
       "<Figure size 432x288 with 1 Axes>"
      ]
     },
     "metadata": {
      "needs_background": "light"
     },
     "output_type": "display_data"
    }
   ],
   "source": [
    "import random \n",
    "idx = random.randint(0,1000)\n",
    "image = PIL.Image.fromarray(np.squeeze(train_x[idx]) )\n",
    "plt.imshow(image)\n",
    "plt.show()\n",
    "image = PIL.Image.fromarray(np.squeeze(train_z[idx]) )\n",
    "plt.imshow(image)\n",
    "plt.show()"
   ]
  },
  {
   "cell_type": "code",
   "execution_count": 19,
   "metadata": {},
   "outputs": [],
   "source": [
    "#save for auto-encoder datasets\n",
    "with open(\"noniid_ae_train.txt\", \"wb\") as fp:   \n",
    "    pickle.dump((train_x, train_z), fp)\n",
    "with open(\"noniid_ae_test.txt\", \"wb\") as fp: \n",
    "    pickle.dump((test_x, test_z), fp)"
   ]
  },
  {
   "cell_type": "code",
   "execution_count": null,
   "metadata": {},
   "outputs": [],
   "source": []
  }
 ],
 "metadata": {
  "kernelspec": {
   "display_name": "Python 3",
   "language": "python",
   "name": "python3"
  },
  "language_info": {
   "codemirror_mode": {
    "name": "ipython",
    "version": 3
   },
   "file_extension": ".py",
   "mimetype": "text/x-python",
   "name": "python",
   "nbconvert_exporter": "python",
   "pygments_lexer": "ipython3",
   "version": "3.6.9"
  }
 },
 "nbformat": 4,
 "nbformat_minor": 2
}
