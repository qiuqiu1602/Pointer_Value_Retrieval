{
 "cells": [
  {
   "cell_type": "code",
   "execution_count": 1,
   "metadata": {},
   "outputs": [],
   "source": [
    "import pickle\n",
    "with open(\"noniid_train.txt\", \"rb\") as fp:\n",
    "    (train_x, train_y) = pickle.load(fp)\n",
    "with open(\"noniid_test.txt\", \"rb\") as fp:\n",
    "    (test_x, test_y) = pickle.load(fp)"
   ]
  },
  {
   "cell_type": "code",
   "execution_count": 2,
   "metadata": {},
   "outputs": [],
   "source": [
    "from __future__ import print_function\n",
    "import argparse\n",
    "import torch\n",
    "import torch.nn as nn\n",
    "import torch.nn.functional as F\n",
    "import torch.optim as optim\n",
    "from torchvision import datasets, transforms\n",
    "from torch.optim.lr_scheduler import StepLR\n",
    "from torch.utils.data import Dataset, DataLoader\n",
    "import numpy as np\n",
    "import matplotlib.pyplot as plt\n",
    "%matplotlib inline\n",
    "import PIL\n",
    "from PIL import Image"
   ]
  },
  {
   "cell_type": "code",
   "execution_count": 3,
   "metadata": {},
   "outputs": [
    {
     "data": {
      "image/png": "[encoded data removed]",
      "text/plain": [
       "<Figure size 432x288 with 1 Axes>"
      ]
     },
     "metadata": {
      "needs_background": "light"
     },
     "output_type": "display_data"
    },
    {
     "name": "stdout",
     "output_type": "stream",
     "text": [
      "1\n"
     ]
    }
   ],
   "source": [
    "import random \n",
    "idx = random.randint(0,1000)\n",
    "image = PIL.Image.fromarray(np.squeeze(train_x[idx]) )\n",
    "plt.imshow(image)\n",
    "plt.show()\n",
    "print(train_y[idx])"
   ]
  },
  {
   "cell_type": "code",
   "execution_count": 4,
   "metadata": {},
   "outputs": [],
   "source": [
    "class PVRDataset(Dataset):\n",
    "    \"\"\"Face Landmarks dataset.\"\"\"\n",
    "\n",
    "    def __init__(self, X, y):\n",
    "        \"\"\"\n",
    "        Args:\n",
    "            csv_file (string): Path to the csv file with annotations.\n",
    "            root_dir (string): Directory with all the images.\n",
    "            transform (callable, optional): Optional transform to be applied\n",
    "                on a sample.\n",
    "        \"\"\"\n",
    "        self.X = torch.tensor(X, dtype = torch.float)/255\n",
    "        self.y = torch.tensor(y, dtype = torch.long)\n",
    "        \n",
    "    def __len__(self):\n",
    "        return len(self.X)\n",
    "\n",
    "    def __getitem__(self, idx):\n",
    "        return self.X[idx], self.y[idx]"
   ]
  },
  {
   "cell_type": "code",
   "execution_count": 5,
   "metadata": {},
   "outputs": [
    {
     "name": "stdout",
     "output_type": "stream",
     "text": [
      "torch.Size([1, 4, 56, 56])\n"
     ]
    }
   ],
   "source": [
    "def gen_mask():\n",
    "    masks = []\n",
    "    m = torch.ones(28,28)\n",
    "    for x in range(2):\n",
    "        for y in range(2):\n",
    "            mask = torch.zeros(1,56,56)\n",
    "            mask[0, x*28:(x+1)*28, y*28:(y+1)*28] = m\n",
    "            masks.append(mask)\n",
    "    return torch.cat(masks).unsqueeze(0)\n",
    "masks = gen_mask()\n",
    "print(masks.shape)    "
   ]
  },
  {
   "cell_type": "code",
   "execution_count": 6,
   "metadata": {},
   "outputs": [],
   "source": [
    "trainset = PVRDataset(train_x, train_y)\n",
    "testset = PVRDataset(test_x, test_y)"
   ]
  },
  {
   "cell_type": "code",
   "execution_count": 7,
   "metadata": {},
   "outputs": [],
   "source": [
    "train_loader = DataLoader(trainset, batch_size=64, shuffle=True,num_workers=1)\n",
    "test_loader = DataLoader(testset, batch_size=64, shuffle=False,num_workers=1)"
   ]
  },
  {
   "cell_type": "code",
   "execution_count": 16,
   "metadata": {},
   "outputs": [],
   "source": [
    "class Actor(nn.Module):\n",
    "    def __init__(self):\n",
    "        super(Actor, self).__init__()\n",
    "        self.conv1 = nn.Conv2d(1, 16, 3, 1)\n",
    "        self.conv2 = nn.Conv2d(16, 8, 3, 1)\n",
    "\n",
    "        self.fc1 = nn.Linear(1352, 128)\n",
    "        self.fc2 = nn.Linear(128, 4)\n",
    "\n",
    "    def forward(self, x):\n",
    "        x = self.conv1(x)\n",
    "        x = self.conv2(x)\n",
    "        x = F.max_pool2d(x, 2)\n",
    "        x = F.max_pool2d(x, 2)\n",
    "\n",
    "        x = torch.flatten(x, 1)\n",
    "        x = self.fc1(x)\n",
    "        x = F.relu(x)\n",
    "\n",
    "        x = self.fc2(x)\n",
    "        output = F.softmax(x, dim = 1)#gumbel_softmax(x, tau=1, hard=False, dim = 1)\n",
    "        return output\n",
    "actor = Actor()"
   ]
  },
  {
   "cell_type": "code",
   "execution_count": 17,
   "metadata": {},
   "outputs": [],
   "source": [
    "class Critic(nn.Module):\n",
    "    def __init__(self):\n",
    "        super(Critic, self).__init__()\n",
    "        self.conv1 = nn.Conv2d(1, 16, 3, 1)\n",
    "        self.conv2 = nn.Conv2d(16, 8, 3, 1)\n",
    "\n",
    "        self.fc1 = nn.Linear(1352, 128)\n",
    "        self.fc2 = nn.Linear(128, 10)\n",
    "\n",
    "    def forward(self, x):\n",
    "        x = self.conv1(x)\n",
    "        x = self.conv2(x)\n",
    "        x = F.max_pool2d(x, 2)\n",
    "        x = F.max_pool2d(x, 2)\n",
    "\n",
    "        x = torch.flatten(x, 1)\n",
    "        x = self.fc1(x)\n",
    "        x = F.relu(x)\n",
    "\n",
    "        x = self.fc2(x)\n",
    "        output = F.log_softmax(x, dim=1)\n",
    "        return output\n",
    "critic = Critic()"
   ]
  },
  {
   "cell_type": "code",
   "execution_count": 18,
   "metadata": {},
   "outputs": [],
   "source": [
    "def train(gen, dis, train_loader, optimizer, epoch):\n",
    "    gen.train()\n",
    "    dis.train()\n",
    "    running_loss = 0.0\n",
    "    correct = 0.0\n",
    "    acc = []\n",
    "    \n",
    "    n = len(train_loader.dataset)\n",
    "    for batch_idx, (data, target) in enumerate(train_loader):\n",
    "        data, target = data, target\n",
    "        optimizer.zero_grad()\n",
    "        mask_val = gen(data)\n",
    "        mask_val = mask_val.unsqueeze(-1).unsqueeze(-1)\n",
    "        data_mask = mask_val * masks.repeat(len(target),1,1,1)\n",
    "        data = torch.sum(data * data_mask, dim = 1, keepdim = True)\n",
    "        \n",
    "        output = dis(data)\n",
    "        \n",
    "        loss = F.nll_loss(output, target)\n",
    "        loss.backward()\n",
    "        optimizer.step()\n",
    "        running_loss += loss.item()\n",
    "        pred = output.argmax(dim=1, keepdim=True)\n",
    "        correct += pred.eq(target.view_as(pred)).sum().item()\n",
    "    \n",
    "    print('Loss/train:', running_loss/n, 'Accuracy/train:', correct/n)\n",
    "    return correct/n"
   ]
  },
  {
   "cell_type": "code",
   "execution_count": 19,
   "metadata": {},
   "outputs": [],
   "source": [
    "def test(gen, dis, test_loader, epoch):\n",
    "    gen.eval()\n",
    "    dis.eval()\n",
    "    test_loss = 0\n",
    "    correct = 0\n",
    "    n = len(test_loader.dataset)\n",
    "    with torch.no_grad():\n",
    "        for data, target in test_loader:\n",
    "            data, target = data, target\n",
    "            mask_val = gen(data)\n",
    "            mask_val = mask_val.unsqueeze(-1).unsqueeze(-1)\n",
    "            data_mask = mask_val * masks.repeat(len(target),1,1,1)\n",
    "            data = torch.sum(data * data_mask, dim = 1, keepdim = True)\n",
    "\n",
    "            output = dis(data)\n",
    "            \n",
    "            test_loss += F.nll_loss(output, target, reduction='sum').item()  # sum up batch loss\n",
    "            pred = output.argmax(dim=1, keepdim=True)  # get the index of the max log-probability\n",
    "            correct += pred.eq(target.view_as(pred)).sum().item()\n",
    "\n",
    "\n",
    "    print('Loss/test:', test_loss/n, 'Accuracy/test:', correct/n)\n",
    "    return correct/n"
   ]
  },
  {
   "cell_type": "code",
   "execution_count": 20,
   "metadata": {},
   "outputs": [
    {
     "name": "stdout",
     "output_type": "stream",
     "text": [
      "Loss/train: 0.023450900039076805 Accuracy/train: 0.4979\n",
      "Loss/test: 4.210068084716797 Accuracy/test: 0.013\n",
      "Loss/train: 0.009819104650616646 Accuracy/train: 0.8181\n",
      "Loss/test: 5.19206120300293 Accuracy/test: 0.019\n",
      "Loss/train: 0.006642575757205486 Accuracy/train: 0.8815\n",
      "Loss/test: 4.858455368041993 Accuracy/test: 0.01\n",
      "Loss/train: 0.004627690044790507 Accuracy/train: 0.9148\n",
      "Loss/test: 5.498603881835938 Accuracy/test: 0.012\n",
      "Loss/train: 0.003629465948417783 Accuracy/train: 0.9324\n",
      "Loss/test: 5.922451766967773 Accuracy/test: 0.005\n",
      "Loss/train: 0.002904480972699821 Accuracy/train: 0.9449\n",
      "Loss/test: 6.087490753173828 Accuracy/test: 0.006\n",
      "Loss/train: 0.002148308204859495 Accuracy/train: 0.9602\n",
      "Loss/test: 7.230091400146485 Accuracy/test: 0.005\n",
      "Loss/train: 0.0016227727896533906 Accuracy/train: 0.9685\n",
      "Loss/test: 7.586256652832032 Accuracy/test: 0.01\n",
      "Loss/train: 0.0015182521053589881 Accuracy/train: 0.9698\n",
      "Loss/test: 7.203475341796875 Accuracy/test: 0.01\n"
     ]
    }
   ],
   "source": [
    "acc_train = []\n",
    "acc_test = []\n",
    "optimizer = optim.Adam(list(actor.parameters())+list(critic.parameters()), lr=1e-3)\n",
    "for epoch in range(1, 10):\n",
    "    acc_train.append(train(actor, critic, train_loader, optimizer, epoch))\n",
    "    acc_test.append(test(actor, critic, test_loader, epoch))"
   ]
  },
  {
   "cell_type": "code",
   "execution_count": 21,
   "metadata": {},
   "outputs": [
    {
     "data": {
      "image/png": "[encoded data removed]",
      "text/plain": [
       "<Figure size 1800x288 with 20 Axes>"
      ]
     },
     "metadata": {
      "needs_background": "light"
     },
     "output_type": "display_data"
    }
   ],
   "source": [
    "dataiter = iter(test_loader)\n",
    "images, labels = dataiter.next()\n",
    "\n",
    "mask_val = actor(images)\n",
    "mask_val = mask_val.unsqueeze(-1).unsqueeze(-1)\n",
    "data_mask = mask_val * masks.repeat(64,1,1,1)\n",
    "data = torch.sum(images * data_mask, dim = 1, keepdim = True)\n",
    "images = images.numpy()\n",
    "masked_images = data.detach().numpy()\n",
    "\n",
    "# plot the first ten input images and then reconstructed images\n",
    "fig, axes = plt.subplots(nrows=2, ncols=10, sharex=True, sharey=True, figsize=(25,4))\n",
    "# input images on top row, reconstructions on bottom\n",
    "for images, row in zip([images, masked_images], axes):\n",
    "    for img, ax in zip(images, row):\n",
    "        ax.imshow(np.squeeze(img), cmap='gray')\n",
    "        ax.get_xaxis().set_visible(False)\n",
    "        ax.get_yaxis().set_visible(False)"
   ]
  },
  {
   "cell_type": "code",
   "execution_count": null,
   "metadata": {},
   "outputs": [],
   "source": []
  }
 ],
 "metadata": {
  "kernelspec": {
   "display_name": "Python 3",
   "language": "python",
   "name": "python3"
  },
  "language_info": {
   "codemirror_mode": {
    "name": "ipython",
    "version": 3
   },
   "file_extension": ".py",
   "mimetype": "text/x-python",
   "name": "python",
   "nbconvert_exporter": "python",
   "pygments_lexer": "ipython3",
   "version": "3.6.9"
  }
 },
 "nbformat": 4,
 "nbformat_minor": 2
}
