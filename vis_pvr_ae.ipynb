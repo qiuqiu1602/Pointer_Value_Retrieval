{
 "cells": [
  {
   "cell_type": "code",
   "execution_count": 1,
   "metadata": {},
   "outputs": [],
   "source": [
    "import pickle\n",
    "with open(\"noniid_ae_train.txt\", \"rb\") as fp:\n",
    "    (train_x, train_y) = pickle.load(fp)\n",
    "with open(\"noniid_ae_test.txt\", \"rb\") as fp:\n",
    "    (test_x, test_y) = pickle.load(fp)"
   ]
  },
  {
   "cell_type": "code",
   "execution_count": 2,
   "metadata": {},
   "outputs": [],
   "source": [
    "from __future__ import print_function\n",
    "import argparse\n",
    "import torch\n",
    "import torch.nn as nn\n",
    "import torch.nn.functional as F\n",
    "import torch.optim as optim\n",
    "from torchvision import datasets, transforms\n",
    "from torch.optim.lr_scheduler import StepLR\n",
    "from torch.utils.data import Dataset, DataLoader\n",
    "import numpy as np\n",
    "import matplotlib.pyplot as plt\n",
    "%matplotlib inline\n",
    "import PIL\n",
    "from PIL import Image"
   ]
  },
  {
   "cell_type": "code",
   "execution_count": 3,
   "metadata": {},
   "outputs": [
    {
     "data": {
      "image/png": "[encoded data removed]",
      "text/plain": [
       "<Figure size 432x288 with 1 Axes>"
      ]
     },
     "metadata": {
      "needs_background": "light"
     },
     "output_type": "display_data"
    },
    {
     "data": {
      "image/png": "[encoded data removed]",
      "text/plain": [
       "<Figure size 432x288 with 1 Axes>"
      ]
     },
     "metadata": {
      "needs_background": "light"
     },
     "output_type": "display_data"
    }
   ],
   "source": [
    "image = PIL.Image.fromarray(np.squeeze(train_x[8]) )\n",
    "plt.imshow(image)\n",
    "plt.show()\n",
    "image = PIL.Image.fromarray(np.squeeze(train_y[8]) )\n",
    "plt.imshow(image)\n",
    "plt.show()"
   ]
  },
  {
   "cell_type": "code",
   "execution_count": 4,
   "metadata": {},
   "outputs": [],
   "source": [
    "class PVRAEDataset(Dataset):\n",
    "    \"\"\"Face Landmarks dataset.\"\"\"\n",
    "\n",
    "    def __init__(self, X, z):\n",
    "        \"\"\"\n",
    "        Args:\n",
    "            csv_file (string): Path to the csv file with annotations.\n",
    "            root_dir (string): Directory with all the images.\n",
    "            transform (callable, optional): Optional transform to be applied\n",
    "                on a sample.\n",
    "        \"\"\"\n",
    "        self.X = (torch.tensor(X, dtype = torch.float)/255 - 0.5)/0.5\n",
    "        self.z = (torch.tensor(z, dtype = torch.float)/255 - 0.5)/0.5\n",
    "        \n",
    "    def __len__(self):\n",
    "        return len(self.X)\n",
    "\n",
    "    def __getitem__(self, idx):\n",
    "        return self.X[idx], self.z[idx]"
   ]
  },
  {
   "cell_type": "code",
   "execution_count": 5,
   "metadata": {},
   "outputs": [],
   "source": [
    "trainset = PVRAEDataset(train_x, train_y)\n",
    "testset = PVRAEDataset(test_x, test_y)"
   ]
  },
  {
   "cell_type": "code",
   "execution_count": 6,
   "metadata": {},
   "outputs": [],
   "source": [
    "train_loader = DataLoader(trainset, batch_size=64, shuffle=True,num_workers=1)\n",
    "test_loader = DataLoader(testset, batch_size=64, shuffle=False,num_workers=1)"
   ]
  },
  {
   "cell_type": "code",
   "execution_count": 7,
   "metadata": {},
   "outputs": [
    {
     "name": "stdout",
     "output_type": "stream",
     "text": [
      "ConvAutoencoder(\n",
      "  (net1_conv1): Conv2d(1, 16, kernel_size=(3, 3), stride=(1, 1), padding=(1, 1))\n",
      "  (net1_conv2): Conv2d(16, 4, kernel_size=(3, 3), stride=(1, 1), padding=(1, 1))\n",
      "  (pool): MaxPool2d(kernel_size=2, stride=2, padding=0, dilation=1, ceil_mode=False)\n",
      "  (lin): Linear(in_features=784, out_features=196, bias=True)\n",
      "  (unflatten): Unflatten(dim=1, unflattened_size=(4, 7, 7))\n",
      "  (t_conv1): ConvTranspose2d(4, 16, kernel_size=(2, 2), stride=(2, 2))\n",
      "  (t_conv2): ConvTranspose2d(16, 1, kernel_size=(2, 2), stride=(2, 2))\n",
      "  (net2_conv1): Conv2d(1, 16, kernel_size=(3, 3), stride=(1, 1))\n",
      "  (net2_conv2): Conv2d(16, 8, kernel_size=(3, 3), stride=(1, 1))\n",
      "  (net2_fc): Linear(in_features=1352, out_features=784, bias=True)\n",
      ")\n"
     ]
    }
   ],
   "source": [
    "class ConvAutoencoder(nn.Module):\n",
    "    def __init__(self):\n",
    "        super(ConvAutoencoder, self).__init__()\n",
    "        ## encoder layers ##\n",
    "        # conv layer (depth from 1 --> 16), 3x3 kernels\n",
    "       \n",
    "        self.net1_conv1 = nn.Conv2d(1, 16, 3, padding=1)  \n",
    "        # conv layer (depth from 16 --> 4), 3x3 kernels\n",
    "        self.net1_conv2 = nn.Conv2d(16, 4, 3, padding=1)\n",
    "        # pooling layer to reduce x-y dims by two; kernel and stride of 2\n",
    "        self.pool = nn.MaxPool2d(2, 2)\n",
    "        self.lin = nn.Linear(784, 196)\n",
    "        \n",
    "        self.unflatten = nn.Unflatten(dim=1, unflattened_size=(4, 7, 7))\n",
    "        \n",
    "        ## decoder layers ##\n",
    "        ## a kernel of 2 and a stride of 2 will increase the spatial dims by 2\n",
    "        self.t_conv1 = nn.ConvTranspose2d(4, 16, 2, stride=2)\n",
    "        self.t_conv2 = nn.ConvTranspose2d(16, 1, 2, stride=2)\n",
    "        \n",
    "        self.net2_conv1 = nn.Conv2d(1, 16, 3, 1)\n",
    "        self.net2_conv2 = nn.Conv2d(16, 8, 3, 1)\n",
    "        self.net2_fc = nn.Linear(1352, 784)\n",
    "\n",
    "\n",
    "    def forward(self, x):\n",
    "        ## encode ##\n",
    "        # add hidden layers with relu activation function\n",
    "        # and maxpooling after\n",
    "        xx = self.net2_conv1(x)\n",
    "        xx = self.net2_conv2(xx)\n",
    "        xx = self.pool(xx)\n",
    "        xx = self.pool(xx)\n",
    "        xx = torch.flatten(xx, 1)\n",
    "        xx = self.net2_fc(xx)\n",
    "        \n",
    "        \n",
    "        x = self.net1_conv1(x)\n",
    "        x = self.pool(x)\n",
    "        # add second hidden layer\n",
    "        x = self.net1_conv2(x)\n",
    "        x = self.pool(x)  # compressed representation\n",
    "        \n",
    "        x = torch.flatten(x, 1)\n",
    "        \n",
    "        #x = torch.cat((x, xx), dim = 1)\n",
    "        x = x * xx\n",
    "        \n",
    "        x = self.lin(x)\n",
    "        \n",
    "        x = self.unflatten(x)\n",
    "        \n",
    "        ## decode ##\n",
    "        # add transpose conv layers, with relu activation function\n",
    "        x = F.relu(self.t_conv1(x))\n",
    "        \n",
    "        # output layer (with sigmoid for scaling from 0 to 1)\n",
    "        x = F.tanh(self.t_conv2(x))\n",
    "        return x\n",
    "\n",
    "# initialize the NN\n",
    "model = ConvAutoencoder()\n",
    "print(model)"
   ]
  },
  {
   "cell_type": "code",
   "execution_count": 9,
   "metadata": {},
   "outputs": [
    {
     "name": "stdout",
     "output_type": "stream",
     "text": [
      "Epoch: 1 \tTraining Loss: 4.5019\n",
      "Epoch: 2 \tTraining Loss: 4.2158\n",
      "Epoch: 3 \tTraining Loss: 4.0175\n",
      "Epoch: 4 \tTraining Loss: 3.8264\n",
      "Epoch: 5 \tTraining Loss: 3.6577\n",
      "Epoch: 6 \tTraining Loss: 3.4991\n",
      "Epoch: 7 \tTraining Loss: 3.3651\n",
      "Epoch: 8 \tTraining Loss: 3.2356\n",
      "Epoch: 9 \tTraining Loss: 3.1291\n",
      "Epoch: 10 \tTraining Loss: 3.0405\n"
     ]
    }
   ],
   "source": [
    "criterion = nn.MSELoss()\n",
    "\n",
    "# Optimizer\n",
    "optimizer = torch.optim.Adam(model.parameters(), lr=0.001)\n",
    "\n",
    "epochs = 10\n",
    "for e in range(1, epochs+1):\n",
    "    train_loss = 0.0  # monitor training loss\n",
    "    \n",
    "    ###################\n",
    "    # train the model #\n",
    "    ###################\n",
    "    for data in train_loader:\n",
    "        \n",
    "        images, labels = data                        # we are just intrested in just images\n",
    "\n",
    "        # no need to flatten images\n",
    "        optimizer.zero_grad()                   # clear the gradients\n",
    "        outputs = model(images)            # forward pass: compute predicted outputs \n",
    "        loss = criterion(outputs, labels)       # calculate the loss\n",
    "        loss.backward()                         # backward pass\n",
    "        optimizer.step()                        # perform optimization step\n",
    "        train_loss += loss.item()*images.size(0)# update running training loss\n",
    "            \n",
    "    # print avg training statistics \n",
    "    train_loss = train_loss/len(train_loader)\n",
    "    print('Epoch: {}'.format(e),\n",
    "          '\\tTraining Loss: {:.4f}'.format(train_loss))"
   ]
  },
  {
   "cell_type": "code",
   "execution_count": 12,
   "metadata": {},
   "outputs": [
    {
     "data": {
      "image/png": "[encoded data removed]",
      "text/plain": [
       "<Figure size 1800x288 with 20 Axes>"
      ]
     },
     "metadata": {
      "needs_background": "light"
     },
     "output_type": "display_data"
    }
   ],
   "source": [
    "dataiter = iter(test_loader)\n",
    "images, labels = dataiter.next()\n",
    "\n",
    "\n",
    "output = model(images)                     # get sample outputs\n",
    "labels = labels.numpy()                    # prep images for display\n",
    "imgs = images.numpy()\n",
    "\n",
    "\n",
    "output = output.view(64, 1, 28, 28)# resizing output\n",
    "output = output.detach().numpy()           # use detach when it's an output that requires_grad\n",
    "\n",
    "# plot the first ten input images and then reconstructed images\n",
    "fig, axes = plt.subplots(nrows=2, ncols=10, sharex=True, sharey=True, figsize=(25,4))\n",
    "# input images on top row, reconstructions on bottom\n",
    "for images, row in zip([labels, output], axes):\n",
    "    for img, ax in zip(images, row):\n",
    "        ax.imshow(np.squeeze(img), cmap='gray')\n",
    "        ax.get_xaxis().set_visible(False)\n",
    "        ax.get_yaxis().set_visible(False)\n",
    "        \n"
   ]
  },
  {
   "cell_type": "code",
   "execution_count": null,
   "metadata": {},
   "outputs": [],
   "source": []
  }
 ],
 "metadata": {
  "kernelspec": {
   "display_name": "Python 3",
   "language": "python",
   "name": "python3"
  },
  "language_info": {
   "codemirror_mode": {
    "name": "ipython",
    "version": 3
   },
   "file_extension": ".py",
   "mimetype": "text/x-python",
   "name": "python",
   "nbconvert_exporter": "python",
   "pygments_lexer": "ipython3",
   "version": "3.6.9"
  }
 },
 "nbformat": 4,
 "nbformat_minor": 2
}
